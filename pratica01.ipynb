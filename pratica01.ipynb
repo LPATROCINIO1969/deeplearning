{
  "nbformat": 4,
  "nbformat_minor": 0,
  "metadata": {
    "colab": {
      "name": "pratica01.ipynb",
      "provenance": [],
      "collapsed_sections": [],
      "authorship_tag": "ABX9TyPhU0yxvwlamsQ5sSNepxXK",
      "include_colab_link": true
    },
    "kernelspec": {
      "name": "python3",
      "display_name": "Python 3"
    },
    "language_info": {
      "name": "python"
    },
    "accelerator": "GPU"
  },
  "cells": [
    {
      "cell_type": "markdown",
      "metadata": {
        "id": "view-in-github",
        "colab_type": "text"
      },
      "source": [
        "<a href=\"https://colab.research.google.com/github/LPATROCINIO1969/deeplearning/blob/main/pratica01.ipynb\" target=\"_parent\"><img src=\"https://colab.research.google.com/assets/colab-badge.svg\" alt=\"Open In Colab\"/></a>"
      ]
    },
    {
      "cell_type": "code",
      "metadata": {
        "id": "8tZ1HhHcFnxF"
      },
      "source": [
        "import numpy   #importa biblioteca para manipulação de matrizes\n",
        "from matplotlib import pyplot as plt  #importa biblioteca para criação de gráficos\n",
        "\n",
        "# inicio das importações de classes do keras (modelo de deep learning)\n",
        "from keras.datasets import mnist        #importa datasets mnist\n",
        "from keras.models import Sequential     #importa modelo sequencial de rede neural\n",
        "from keras.layers import Dense, InputLayer          #importa camadas totalmente conectadas\n",
        "from keras.layers import Dropout        #importa a estrutura de dropout \n",
        "from keras.utils import np_utils        #importa biblioteca de utilidade do keras"
      ],
      "execution_count": null,
      "outputs": []
    },
    {
      "cell_type": "code",
      "metadata": {
        "colab": {
          "base_uri": "https://localhost:8080/",
          "height": 350
        },
        "id": "NvV4h2WxsZv5",
        "outputId": "64149e79-41ae-4158-b9a4-032617b7f78c"
      },
      "source": [
        "(X_train,y_train),(X_test, y_test)=mnist.load_data()  #importa o dataset mnist da biblioteca do Keras\n",
        "print(X_train.shape)        # imprime o tamanho do vetor\n",
        "first_image = X_train[250]  # obtém a imagem de treino no índice 100 do vetor\n",
        "# Realiza manipulação dos dados da imagem\n",
        "first_image = numpy.array(first_image,dtype = 'float')\n",
        "pixels = first_image.reshape((28,28))\n",
        "# exibe a imagem do vetor\n",
        "plt.imshow(pixels, cmap='gray')\n",
        "plt.show()\n",
        "\n",
        "print(y_train[250])   #imprime a classe da imagem de treino de indice 100"
      ],
      "execution_count": null,
      "outputs": [
        {
          "output_type": "stream",
          "name": "stdout",
          "text": [
            "Downloading data from https://storage.googleapis.com/tensorflow/tf-keras-datasets/mnist.npz\n",
            "11493376/11490434 [==============================] - 0s 0us/step\n",
            "11501568/11490434 [==============================] - 0s 0us/step\n",
            "(60000, 28, 28)\n"
          ]
        },
        {
          "output_type": "display_data",
          "data": {
            "image/png": "[encoded data removed]",
            "text/plain": [
              "<Figure size 432x288 with 1 Axes>"
            ]
          },
          "metadata": {
            "needs_background": "light"
          }
        },
        {
          "output_type": "stream",
          "name": "stdout",
          "text": [
            "3\n"
          ]
        }
      ]
    },
    {
      "cell_type": "code",
      "metadata": {
        "colab": {
          "base_uri": "https://localhost:8080/"
        },
        "id": "SQg9UEGGy-Tw",
        "outputId": "6fde2684-0048-4c5f-a1e6-2eee05d39221"
      },
      "source": [
        "num_pixels = X_train.shape[1]*X_train.shape[2]   #calcula o total de pixels da imagem\n",
        "print(num_pixels)\n",
        "\n",
        "# transforma o valor dos pixels para float 32\n",
        "X_train2 = X_train.reshape(X_train.shape[0], num_pixels).astype('float32')\n",
        "X_test2 = X_test.reshape(X_test.shape[0], num_pixels).astype('float32')\n",
        "\n",
        "#normalizando os valores dos pixels para o intervalo 0 a 1.\n",
        "X_train2 = X_train2/255\n",
        "X_test2 = X_test2/255\n"
      ],
      "execution_count": null,
      "outputs": [
        {
          "output_type": "stream",
          "name": "stdout",
          "text": [
            "784\n"
          ]
        }
      ]
    },
    {
      "cell_type": "code",
      "metadata": {
        "colab": {
          "base_uri": "https://localhost:8080/"
        },
        "id": "SuIjm89E3Z5O",
        "outputId": "0c765699-41e5-4974-c3fa-c17c4a33a877"
      },
      "source": [
        "y_train_h = np_utils.to_categorical(y_train)\n",
        "y_test_h = np_utils.to_categorical(y_test)\n",
        "\n",
        "# determina o número de classes do problema\n",
        "num_classes = y_test_h.shape[1]\n",
        "\n",
        "print(num_pixels)\n",
        "print(y_train_h[250])\n",
        "print(y_test_h[250])"
      ],
      "execution_count": null,
      "outputs": [
        {
          "output_type": "stream",
          "name": "stdout",
          "text": [
            "784\n",
            "[0. 0. 0. 1. 0. 0. 0. 0. 0. 0.]\n",
            "[0. 0. 0. 0. 1. 0. 0. 0. 0. 0.]\n"
          ]
        }
      ]
    },
    {
      "cell_type": "code",
      "metadata": {
        "colab": {
          "base_uri": "https://localhost:8080/"
        },
        "id": "h5WNgvMej8Q4",
        "outputId": "8c973026-d0c8-453c-aa29-4508ca140596"
      },
      "source": [
        "# cria um modelo do tipo sequencial (feedforward)\n",
        "model = Sequential()\n",
        "model.add(InputLayer(input_shape=num_pixels))                             # Cria a camada de entrada\n",
        "model.add(Dense(1024, kernel_initializer='normal', activation='relu'))    # Cria a primeira camada oculta da rede\n",
        "model.add(Dense(2048, kernel_initializer='normal', activation='relu'))    # Cria a segunda camada oculta da rede\n",
        "model.add(Dense(10, kernel_initializer='normal', activation='softmax'))   # Cria a camada de saída\n",
        "model.summary()\n"
      ],
      "execution_count": null,
      "outputs": [
        {
          "output_type": "stream",
          "name": "stdout",
          "text": [
            "Model: \"sequential\"\n",
            "_________________________________________________________________\n",
            "Layer (type)                 Output Shape              Param #   \n",
            "=================================================================\n",
            "dense (Dense)                (None, 1024)              803840    \n",
            "_________________________________________________________________\n",
            "dense_1 (Dense)              (None, 2048)              2099200   \n",
            "_________________________________________________________________\n",
            "dense_2 (Dense)              (None, 10)                20490     \n",
            "=================================================================\n",
            "Total params: 2,923,530\n",
            "Trainable params: 2,923,530\n",
            "Non-trainable params: 0\n",
            "_________________________________________________________________\n"
          ]
        }
      ]
    },
    {
      "cell_type": "code",
      "metadata": {
        "colab": {
          "base_uri": "https://localhost:8080/"
        },
        "id": "coLTrtcCv3O2",
        "outputId": "e8865be8-ee3e-4129-b931-1d4b510c5537"
      },
      "source": [
        "model.compile(loss=\"categorical_crossentropy\", optimizer=\"adam\", metrics=['accuracy'])\n",
        "result = model.fit(X_train2,y_train_h,validation_data=(X_test2,y_test_h), epochs=20, verbose=1, batch_size = 100)   #executa o treinamento da rede"
      ],
      "execution_count": null,
      "outputs": [
        {
          "output_type": "stream",
          "name": "stdout",
          "text": [
            "Epoch 1/20\n",
            "600/600 [==============================] - 5s 7ms/step - loss: 0.0051 - accuracy: 0.9989 - val_loss: 0.2803 - val_accuracy: 0.9802\n",
            "Epoch 2/20\n",
            "600/600 [==============================] - 4s 7ms/step - loss: 0.0164 - accuracy: 0.9977 - val_loss: 0.2516 - val_accuracy: 0.9821\n",
            "Epoch 3/20\n",
            "600/600 [==============================] - 4s 6ms/step - loss: 0.0095 - accuracy: 0.9988 - val_loss: 0.2127 - val_accuracy: 0.9836\n",
            "Epoch 4/20\n",
            "600/600 [==============================] - 4s 7ms/step - loss: 0.0049 - accuracy: 0.9992 - val_loss: 0.2516 - val_accuracy: 0.9823\n",
            "Epoch 5/20\n",
            "600/600 [==============================] - 4s 6ms/step - loss: 0.0112 - accuracy: 0.9983 - val_loss: 0.2647 - val_accuracy: 0.9825\n",
            "Epoch 6/20\n",
            "600/600 [==============================] - 4s 6ms/step - loss: 0.0143 - accuracy: 0.9982 - val_loss: 0.2545 - val_accuracy: 0.9830\n",
            "Epoch 7/20\n",
            "600/600 [==============================] - 4s 6ms/step - loss: 0.0088 - accuracy: 0.9987 - val_loss: 0.2753 - val_accuracy: 0.9824\n",
            "Epoch 8/20\n",
            "600/600 [==============================] - 4s 6ms/step - loss: 0.0088 - accuracy: 0.9989 - val_loss: 0.2150 - val_accuracy: 0.9856\n",
            "Epoch 9/20\n",
            "600/600 [==============================] - 4s 6ms/step - loss: 0.0080 - accuracy: 0.9989 - val_loss: 0.2475 - val_accuracy: 0.9836\n",
            "Epoch 10/20\n",
            "600/600 [==============================] - 4s 6ms/step - loss: 0.0103 - accuracy: 0.9986 - val_loss: 0.2605 - val_accuracy: 0.9826\n",
            "Epoch 11/20\n",
            "600/600 [==============================] - 4s 6ms/step - loss: 0.0131 - accuracy: 0.9980 - val_loss: 0.2584 - val_accuracy: 0.9811\n",
            "Epoch 12/20\n",
            "600/600 [==============================] - 4s 6ms/step - loss: 0.0081 - accuracy: 0.9988 - val_loss: 0.2347 - val_accuracy: 0.9831\n",
            "Epoch 13/20\n",
            "600/600 [==============================] - 4s 6ms/step - loss: 0.0085 - accuracy: 0.9989 - val_loss: 0.2324 - val_accuracy: 0.9838\n",
            "Epoch 14/20\n",
            "600/600 [==============================] - 4s 6ms/step - loss: 0.0098 - accuracy: 0.9986 - val_loss: 0.2599 - val_accuracy: 0.9814\n",
            "Epoch 15/20\n",
            "600/600 [==============================] - 4s 6ms/step - loss: 0.0079 - accuracy: 0.9990 - val_loss: 0.2107 - val_accuracy: 0.9828\n",
            "Epoch 16/20\n",
            "600/600 [==============================] - 4s 6ms/step - loss: 0.0075 - accuracy: 0.9992 - val_loss: 0.2181 - val_accuracy: 0.9826\n",
            "Epoch 17/20\n",
            "600/600 [==============================] - 4s 6ms/step - loss: 0.0077 - accuracy: 0.9990 - val_loss: 0.2038 - val_accuracy: 0.9824\n",
            "Epoch 18/20\n",
            "600/600 [==============================] - 4s 6ms/step - loss: 0.0046 - accuracy: 0.9992 - val_loss: 0.2356 - val_accuracy: 0.9835\n",
            "Epoch 19/20\n",
            "600/600 [==============================] - 4s 6ms/step - loss: 0.0121 - accuracy: 0.9987 - val_loss: 0.3313 - val_accuracy: 0.9803\n",
            "Epoch 20/20\n",
            "600/600 [==============================] - 4s 6ms/step - loss: 0.0085 - accuracy: 0.9987 - val_loss: 0.2791 - val_accuracy: 0.9824\n"
          ]
        }
      ]
    },
    {
      "cell_type": "code",
      "metadata": {
        "colab": {
          "base_uri": "https://localhost:8080/"
        },
        "id": "b5zyvPgL4pjX",
        "outputId": "99270bf4-42fd-40a9-8f3a-8b7d9bfe0c2a"
      },
      "source": [
        "x = X_train2[50]\n",
        "x = numpy.expand_dims(x, axis=0)\n",
        "print(model.predict(x))\n",
        "print(numpy.argmax(model.predict(x)))"
      ],
      "execution_count": null,
      "outputs": [
        {
          "output_type": "stream",
          "name": "stdout",
          "text": [
            "[[0. 0. 0. 1. 0. 0. 0. 0. 0. 0.]]\n",
            "3\n"
          ]
        }
      ]
    }
  ]
}